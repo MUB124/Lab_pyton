{
 "cells": [
  {
   "cell_type": "code",
   "execution_count": 227,
   "id": "0869684d",
   "metadata": {},
   "outputs": [
    {
     "name": "stdout",
     "output_type": "stream",
     "text": [
      "Energy Data:\n",
      "          Country  Energy Supply  Energy Supply per Capita  % Renewable\n",
      "0     Afghanistan   3.210000e+08                      10.0    78.669280\n",
      "1         Albania   1.020000e+08                      35.0   100.000000\n",
      "2         Algeria   1.959000e+09                      51.0     0.551010\n",
      "3  American Samoa            NaN                       NaN     0.641026\n",
      "4         Andorra   9.000000e+06                     121.0    88.695650\n",
      "\n",
      "GDP Data:\n",
      "  Country Name Country Code                            Indicator Name  \\\n",
      "0        Aruba          ABW  GDP at market prices (constant 2010 US$)   \n",
      "1      Andorra          AND  GDP at market prices (constant 2010 US$)   \n",
      "2  Afghanistan          AFG  GDP at market prices (constant 2010 US$)   \n",
      "3       Angola          AGO  GDP at market prices (constant 2010 US$)   \n",
      "4      Albania          ALB  GDP at market prices (constant 2010 US$)   \n",
      "\n",
      "   Indicator Code  1960  1961  1962  1963  1964  1965  ...          2006  \\\n",
      "0  NY.GDP.MKTP.KD   NaN   NaN   NaN   NaN   NaN   NaN  ...           NaN   \n",
      "1  NY.GDP.MKTP.KD   NaN   NaN   NaN   NaN   NaN   NaN  ...  4.018196e+09   \n",
      "2  NY.GDP.MKTP.KD   NaN   NaN   NaN   NaN   NaN   NaN  ...  1.030523e+10   \n",
      "3  NY.GDP.MKTP.KD   NaN   NaN   NaN   NaN   NaN   NaN  ...  5.581103e+10   \n",
      "4  NY.GDP.MKTP.KD   NaN   NaN   NaN   NaN   NaN   NaN  ...  9.771760e+09   \n",
      "\n",
      "           2007          2008          2009          2010          2011  \\\n",
      "0           NaN           NaN           NaN  2.467704e+09           NaN   \n",
      "1  4.021331e+09  3.675728e+09  3.535389e+09  3.346317e+09  3.185605e+09   \n",
      "2  1.172119e+10  1.214448e+10  1.469733e+10  1.593680e+10  1.691113e+10   \n",
      "3  6.842044e+10  7.787420e+10  7.975320e+10  8.247091e+10  8.570262e+10   \n",
      "4  1.034829e+10  1.112752e+10  1.150029e+10  1.192695e+10  1.223109e+10   \n",
      "\n",
      "           2012          2013          2014          2015  \n",
      "0           NaN           NaN           NaN           NaN  \n",
      "1  3.129538e+09  3.127550e+09           NaN           NaN  \n",
      "2  1.935220e+10  1.973134e+10  1.999032e+10  2.029415e+10  \n",
      "3  9.012096e+10  9.626143e+10  1.008863e+11  1.039106e+11  \n",
      "4  1.240477e+10  1.254247e+10  1.279331e+10  1.312082e+10  \n",
      "\n",
      "[5 rows x 60 columns]\n",
      "\n",
      "Scimagojr Data:\n",
      "   Rank             Country  Documents  Citable documents  Citations  \\\n",
      "0     1               China     127050             126767     597237   \n",
      "1     2       United States      96661              94747     792274   \n",
      "2     3               Japan      30504              30287     223024   \n",
      "3     4      United Kingdom      20944              20357     206091   \n",
      "4     5  Russian Federation      18534              18301      34266   \n",
      "\n",
      "   Self-citations  Citations per document  H index  \n",
      "0          411683                    4.70      138  \n",
      "1          265436                    8.20      230  \n",
      "2           61554                    7.31      134  \n",
      "3           37874                    9.84      139  \n",
      "4           12422                    1.85       57  \n"
     ]
    }
   ],
   "source": [
    "import pandas as pd\n",
    "import numpy as np\n",
    "import re\n",
    "import matplotlib.pyplot as plt\n",
    "\n",
    "\n",
    "def remove_digits_parentheses(text):\n",
    "    pattern = r'\\([^)]*\\)|\\d+'\n",
    "    return re.sub(pattern, '', text)\n",
    "\n",
    "def process_energy_data(file_path, sheet_name, start_row, country_mapping, stop_country, max_rows=20):\n",
    "    new_column_names = ['Country', 'Energy Supply', 'Energy Supply per Capita', '% Renewable']\n",
    "\n",
    "    data = pd.read_excel(file_path, sheet_name=sheet_name, header=start_row, usecols='C:F')\n",
    "    data.columns = new_column_names\n",
    "    data = data.replace('...', np.NaN)\n",
    "\n",
    "    data['Country'] = data['Country'].astype(str)\n",
    "    data['Country'] = data['Country'].apply(remove_digits_parentheses)\n",
    "    data['Country'] = data['Country'].replace(country_mapping)\n",
    "    data['Country'].fillna('', inplace=True)\n",
    "\n",
    "    data['Energy Supply'] = data['Energy Supply'] * 1000000\n",
    "\n",
    "    return data\n",
    "#gdp\n",
    "def process_gpd_file(file_path):\n",
    "    gpd_data = pd.read_csv(file_path, skiprows=4)\n",
    "    return gpd_data\n",
    "#magojr\n",
    "def process_scimagojr_file(file_path):\n",
    "    scimago_data = pd.read_excel(file_path, sheet_name='Sheet1', header=0, usecols=\"A:H\", nrows=191, engine='openpyxl')\n",
    "    return scimago_data\n",
    "\n",
    "# file\n",
    "file_path_energy = r'D:\\Навчання\\ХПІ\\Pyton\\L3\\En_In.xls'\n",
    "file_path_gpd = r'D:\\Навчання\\ХПІ\\Pyton\\L3\\gpd.csv'\n",
    "file_path_scimagojr = r'D:\\Навчання\\ХПІ\\Pyton\\L3\\scimagojr.xlsx'\n",
    "\n",
    "# energy\n",
    "sheet_name_energy = 'Energy'\n",
    "start_row_energy = 17 \n",
    "country_mapping_energy = {\n",
    "    \"Republic of Korea\": \"South Korea\",\n",
    "    \"United States of America\": \"United States\",\n",
    "    \"United Kingdom of Great Britain and Northern Ireland\": \"United Kingdom\",\n",
    "    \"China, Hong Kong Special Administrative Region\": \"Hong Kong\"\n",
    "}\n",
    "stop_country_energy = 'Zimbabwe'\n",
    "#unite\n",
    "# Функція обробки даних з врахуванням NaN у відсутніх комірках\n",
    "def merge_and_process_data(file_path_energy, file_path_gpd, file_path_scimagojr):\n",
    "    energy_data = process_energy_data(file_path_energy, sheet_name_energy, start_row_energy, country_mapping_energy, stop_country_energy)\n",
    "    gpd_data = process_gpd_file(file_path_gpd)\n",
    "    scimagojr_data = process_scimagojr_file(file_path_scimagojr)\n",
    "    \n",
    "    merged_data = pd.merge(scimagojr_data, energy_data, how='left', left_on='Country', right_on='Country')\n",
    "    merged_data = pd.merge(merged_data, gpd_data, how='left', left_on='Country', right_on='Country Name')\n",
    "    \n",
    "    years = [str(year) for year in range(2006, 2016)]\n",
    "    selected_columns = ['Country', 'Rank', 'Documents', 'Citable documents', 'Citations', 'Self-citations',\n",
    "                        'Citations per document', 'H index', 'Energy Supply', 'Energy Supply per Capita', '% Renewable'] + years\n",
    "    selected_data = merged_data.nsmallest(15, 'Rank')[selected_columns]\n",
    "    selected_data.set_index('Country', inplace=True)\n",
    "\n",
    "    return selected_data\n",
    "\n",
    "\n",
    "\n",
    "# Задача 8\n",
    "def avg_gdp_last_10_years(df):\n",
    "    # Отримання стовпців з роками\n",
    "    year_columns = df.columns[-10:]\n",
    "    # Обчислення середнього ВВП за останні 10 років\n",
    "    df['Avg GDP Last 10 Years'] = df[year_columns].mean(axis=1)\n",
    "    return df['Avg GDP Last 10 Years']\n",
    "\n",
    "# Задача 9\n",
    "def change_gdp_for_5th_country(df):\n",
    "    avg_gdp = avg_gdp_last_10_years(df)\n",
    "    fifth_country = avg_gdp.nlargest(5).iloc[-1]  \n",
    "    country_name = avg_gdp[avg_gdp == fifth_country].index[0]  \n",
    "    gdp_change = df.loc[country_name][-1] - df.loc[country_name][-11]  \n",
    "    return country_name, gdp_change\n",
    "\n",
    "# Задача 10\n",
    "def max_renewable_country(df):\n",
    "    max_renewable = df['% Renewable'].idxmax()  # Назва країни з максимальним % Renewable\n",
    "    max_renewable_value = df.loc[max_renewable]['% Renewable']  # Значення максимального % Renewable\n",
    "    return max_renewable, max_renewable_value\n",
    "\n",
    "# Задача 11\n",
    "def sixth_population_country(df):\n",
    "    df['Population'] = df['Energy Supply'] / df['Energy Supply per Capita']\n",
    "    sixth_pop_country = df['Population'].nlargest(6).iloc[-1]\n",
    "    country_name = df[df['Population'] == sixth_pop_country].index[0]\n",
    "    return country_name\n",
    "\n",
    "# Задача 12\n",
    "def correlation_citations_energy(df):\n",
    "    df['Population'] = df['Energy Supply'] / df['Energy Supply per Capita']\n",
    "    df['Citations per Capita'] = df['Citable documents'] / df['Population']\n",
    "    correlation = df['Citations per Capita'].corr(df['Energy Supply per Capita'])\n",
    "    return correlation\n",
    "\n",
    "# Задача 13\n",
    "def compare_renewable_to_median(df):\n",
    "    median_renewable = df['% Renewable'].median()\n",
    "    df['Renewable Above Median'] = df['% Renewable'].apply(lambda x: 1 if x >= median_renewable else 0)\n",
    "    return df['Renewable Above Median']\n",
    "\n",
    "# Задача 14\n",
    "ContinentDict = {'China':'Asia', 'United States':'North America', 'Japan':'Asia', 'United Kingdom':'Europe', 'Russian Federation':'Europe', 'Canada':'North America', 'Germany':'Europe', 'India':'Asia', 'France':'Europe', 'South Korea':'Asia', 'Italy':'Europe', 'Spain':'Europe', 'Iran':'Asia', 'Australia':'Australia', 'Brazil':'South America'}\n",
    "\n",
    "def group_by_continent(df, continent_dict):\n",
    "    df['Continent'] = df.index.map(continent_dict)  # Додавання стовпця з континентами\n",
    "    population = df['Energy Supply'] / df['Energy Supply per Capita']\n",
    "    grouped = population.groupby(df['Continent'])  # Групування за континентами\n",
    "    summary_df = pd.DataFrame({'size': grouped.size(),  # Розмір вибірки\n",
    "                               'sum': grouped.sum(),  # Сума населення\n",
    "                               'mean': grouped.mean(),  # Середнє населення\n",
    "                               'std': grouped.std()})  # Стандартне відхилення\n",
    "    return summary_df\n",
    "\n",
    "\n",
    "\n",
    "\n",
    "\n",
    "formatted_df = merge_and_process_data(file_path_energy, file_path_gpd, file_path_scimagojr)\n",
    "formatted_df\n",
    "\n",
    "\n",
    "\n",
    "\n"
   ]
  },
  {
   "cell_type": "code",
   "execution_count": 236,
   "id": "8cc71e86",
   "metadata": {},
   "outputs": [
    {
     "name": "stdout",
     "output_type": "stream",
     "text": [
      "Grouped by Continent:\n",
      "               size           sum          mean           std\n",
      "Continent                                                    \n",
      "Asia              5  2.821591e+09  7.053977e+08  7.138779e+08\n",
      "Australia         1  2.331602e+07  2.331602e+07           NaN\n",
      "Europe            6  4.579297e+08  7.632161e+07  3.464767e+07\n",
      "North America     2  3.528552e+08  1.764276e+08  1.996696e+08\n",
      "South America     1  2.059153e+08  2.059153e+08           NaN\n"
     ]
    }
   ],
   "source": [
    "grouped_continent_data = group_by_continent(formatted_df, ContinentDict)\n",
    "print(\"Grouped by Continent:\")\n",
    "print(grouped_continent_data)"
   ]
  },
  {
   "cell_type": "code",
   "execution_count": 235,
   "id": "6cc4f0f0",
   "metadata": {},
   "outputs": [
    {
     "data": {
      "text/plain": [
       "Country\n",
       "China                 1\n",
       "United States         0\n",
       "Japan                 0\n",
       "United Kingdom        0\n",
       "Russian Federation    1\n",
       "Canada                1\n",
       "Germany               1\n",
       "India                 0\n",
       "France                0\n",
       "South Korea           0\n",
       "Italy                 1\n",
       "Spain                 1\n",
       "Iran                  0\n",
       "Australia             0\n",
       "Brazil                1\n",
       "Name: Renewable Above Median, dtype: int64"
      ]
     },
     "execution_count": 235,
     "metadata": {},
     "output_type": "execute_result"
    }
   ],
   "source": [
    "compare_renewable_to_median(formatted_df)"
   ]
  },
  {
   "cell_type": "code",
   "execution_count": 234,
   "id": "375bce4d",
   "metadata": {},
   "outputs": [
    {
     "data": {
      "text/plain": [
       "0.7901935488300874"
      ]
     },
     "execution_count": 234,
     "metadata": {},
     "output_type": "execute_result"
    }
   ],
   "source": [
    "correlation_citations_energy(formatted_df)"
   ]
  },
  {
   "cell_type": "code",
   "execution_count": 233,
   "id": "dcbed265",
   "metadata": {},
   "outputs": [
    {
     "data": {
      "text/plain": [
       "'Japan'"
      ]
     },
     "execution_count": 233,
     "metadata": {},
     "output_type": "execute_result"
    }
   ],
   "source": [
    "sixth_population_country(formatted_df)"
   ]
  },
  {
   "cell_type": "code",
   "execution_count": 232,
   "id": "6f5e8a76",
   "metadata": {},
   "outputs": [
    {
     "data": {
      "text/plain": [
       "('Brazil', 69.64803)"
      ]
     },
     "execution_count": 232,
     "metadata": {},
     "output_type": "execute_result"
    }
   ],
   "source": [
    "max_renewable_country(formatted_df)"
   ]
  },
  {
   "cell_type": "code",
   "execution_count": 230,
   "id": "1d84be2b",
   "metadata": {},
   "outputs": [
    {
     "data": {
      "text/plain": [
       "('France', 82012239735.09668)"
      ]
     },
     "execution_count": 230,
     "metadata": {},
     "output_type": "execute_result"
    }
   ],
   "source": [
    "change_gdp_for_5th_country(formatted_df)"
   ]
  },
  {
   "cell_type": "code",
   "execution_count": 231,
   "id": "0de5c2db",
   "metadata": {},
   "outputs": [
    {
     "data": {
      "text/plain": [
       "Country\n",
       "China                 6.610156e+12\n",
       "United States         1.542784e+13\n",
       "Japan                 5.547277e+12\n",
       "United Kingdom        2.495485e+12\n",
       "Russian Federation    1.585403e+12\n",
       "Canada                1.671323e+12\n",
       "Germany               3.510800e+12\n",
       "India                 1.825175e+12\n",
       "France                2.689926e+12\n",
       "South Korea                    NaN\n",
       "Italy                 2.111074e+12\n",
       "Spain                 1.418440e+12\n",
       "Iran                           NaN\n",
       "Australia             1.179816e+12\n",
       "Brazil                2.228057e+12\n",
       "Name: Avg GDP Last 10 Years, dtype: float64"
      ]
     },
     "execution_count": 231,
     "metadata": {},
     "output_type": "execute_result"
    }
   ],
   "source": [
    "avg_gdp_last_10_years(formatted_df)"
   ]
  },
  {
   "cell_type": "code",
   "execution_count": null,
   "id": "e4da0b9b",
   "metadata": {},
   "outputs": [],
   "source": []
  },
  {
   "cell_type": "code",
   "execution_count": null,
   "id": "cdf28a0b",
   "metadata": {},
   "outputs": [],
   "source": []
  },
  {
   "cell_type": "code",
   "execution_count": null,
   "id": "dacbeba4",
   "metadata": {},
   "outputs": [],
   "source": []
  },
  {
   "cell_type": "code",
   "execution_count": null,
   "id": "d8bc8a96",
   "metadata": {},
   "outputs": [],
   "source": []
  }
 ],
 "metadata": {
  "kernelspec": {
   "display_name": "Python 3",
   "language": "python",
   "name": "python3"
  },
  "language_info": {
   "codemirror_mode": {
    "name": "ipython",
    "version": 3
   },
   "file_extension": ".py",
   "mimetype": "text/x-python",
   "name": "python",
   "nbconvert_exporter": "python",
   "pygments_lexer": "ipython3",
   "version": "3.6.2"
  }
 },
 "nbformat": 4,
 "nbformat_minor": 5
}
